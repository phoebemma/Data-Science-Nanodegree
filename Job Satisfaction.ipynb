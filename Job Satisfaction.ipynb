{
 "cells": [
  {
   "cell_type": "markdown",
   "metadata": {},
   "source": [
    "#### Job Satisfaction\n",
    "\n",
    "In this notebook, you will be exploring job satisfaction according to the survey results.  Use the cells at the top of the notebook to explore as necessary, and use your findings to solve the questions at the bottom of the notebook."
   ]
  },
  {
   "cell_type": "code",
   "execution_count": 2,
   "metadata": {},
   "outputs": [
    {
     "data": {
      "text/html": [
       "<div>\n",
       "<style scoped>\n",
       "    .dataframe tbody tr th:only-of-type {\n",
       "        vertical-align: middle;\n",
       "    }\n",
       "\n",
       "    .dataframe tbody tr th {\n",
       "        vertical-align: top;\n",
       "    }\n",
       "\n",
       "    .dataframe thead th {\n",
       "        text-align: right;\n",
       "    }\n",
       "</style>\n",
       "<table border=\"1\" class=\"dataframe\">\n",
       "  <thead>\n",
       "    <tr style=\"text-align: right;\">\n",
       "      <th></th>\n",
       "      <th>Respondent</th>\n",
       "      <th>Professional</th>\n",
       "      <th>ProgramHobby</th>\n",
       "      <th>Country</th>\n",
       "      <th>University</th>\n",
       "      <th>EmploymentStatus</th>\n",
       "      <th>FormalEducation</th>\n",
       "      <th>MajorUndergrad</th>\n",
       "      <th>HomeRemote</th>\n",
       "      <th>CompanySize</th>\n",
       "      <th>...</th>\n",
       "      <th>StackOverflowMakeMoney</th>\n",
       "      <th>Gender</th>\n",
       "      <th>HighestEducationParents</th>\n",
       "      <th>Race</th>\n",
       "      <th>SurveyLong</th>\n",
       "      <th>QuestionsInteresting</th>\n",
       "      <th>QuestionsConfusing</th>\n",
       "      <th>InterestedAnswers</th>\n",
       "      <th>Salary</th>\n",
       "      <th>ExpectedSalary</th>\n",
       "    </tr>\n",
       "  </thead>\n",
       "  <tbody>\n",
       "    <tr>\n",
       "      <th>0</th>\n",
       "      <td>1</td>\n",
       "      <td>Student</td>\n",
       "      <td>Yes, both</td>\n",
       "      <td>United States</td>\n",
       "      <td>No</td>\n",
       "      <td>Not employed, and not looking for work</td>\n",
       "      <td>Secondary school</td>\n",
       "      <td>NaN</td>\n",
       "      <td>NaN</td>\n",
       "      <td>NaN</td>\n",
       "      <td>...</td>\n",
       "      <td>Strongly disagree</td>\n",
       "      <td>Male</td>\n",
       "      <td>High school</td>\n",
       "      <td>White or of European descent</td>\n",
       "      <td>Strongly disagree</td>\n",
       "      <td>Strongly agree</td>\n",
       "      <td>Disagree</td>\n",
       "      <td>Strongly agree</td>\n",
       "      <td>NaN</td>\n",
       "      <td>NaN</td>\n",
       "    </tr>\n",
       "    <tr>\n",
       "      <th>1</th>\n",
       "      <td>2</td>\n",
       "      <td>Student</td>\n",
       "      <td>Yes, both</td>\n",
       "      <td>United Kingdom</td>\n",
       "      <td>Yes, full-time</td>\n",
       "      <td>Employed part-time</td>\n",
       "      <td>Some college/university study without earning ...</td>\n",
       "      <td>Computer science or software engineering</td>\n",
       "      <td>More than half, but not all, the time</td>\n",
       "      <td>20 to 99 employees</td>\n",
       "      <td>...</td>\n",
       "      <td>Strongly disagree</td>\n",
       "      <td>Male</td>\n",
       "      <td>A master's degree</td>\n",
       "      <td>White or of European descent</td>\n",
       "      <td>Somewhat agree</td>\n",
       "      <td>Somewhat agree</td>\n",
       "      <td>Disagree</td>\n",
       "      <td>Strongly agree</td>\n",
       "      <td>NaN</td>\n",
       "      <td>37500.0</td>\n",
       "    </tr>\n",
       "    <tr>\n",
       "      <th>2</th>\n",
       "      <td>3</td>\n",
       "      <td>Professional developer</td>\n",
       "      <td>Yes, both</td>\n",
       "      <td>United Kingdom</td>\n",
       "      <td>No</td>\n",
       "      <td>Employed full-time</td>\n",
       "      <td>Bachelor's degree</td>\n",
       "      <td>Computer science or software engineering</td>\n",
       "      <td>Less than half the time, but at least one day ...</td>\n",
       "      <td>10,000 or more employees</td>\n",
       "      <td>...</td>\n",
       "      <td>Disagree</td>\n",
       "      <td>Male</td>\n",
       "      <td>A professional degree</td>\n",
       "      <td>White or of European descent</td>\n",
       "      <td>Somewhat agree</td>\n",
       "      <td>Agree</td>\n",
       "      <td>Disagree</td>\n",
       "      <td>Agree</td>\n",
       "      <td>113750.0</td>\n",
       "      <td>NaN</td>\n",
       "    </tr>\n",
       "    <tr>\n",
       "      <th>3</th>\n",
       "      <td>4</td>\n",
       "      <td>Professional non-developer who sometimes write...</td>\n",
       "      <td>Yes, both</td>\n",
       "      <td>United States</td>\n",
       "      <td>No</td>\n",
       "      <td>Employed full-time</td>\n",
       "      <td>Doctoral degree</td>\n",
       "      <td>A non-computer-focused engineering discipline</td>\n",
       "      <td>Less than half the time, but at least one day ...</td>\n",
       "      <td>10,000 or more employees</td>\n",
       "      <td>...</td>\n",
       "      <td>Disagree</td>\n",
       "      <td>Male</td>\n",
       "      <td>A doctoral degree</td>\n",
       "      <td>White or of European descent</td>\n",
       "      <td>Agree</td>\n",
       "      <td>Agree</td>\n",
       "      <td>Somewhat agree</td>\n",
       "      <td>Strongly agree</td>\n",
       "      <td>NaN</td>\n",
       "      <td>NaN</td>\n",
       "    </tr>\n",
       "    <tr>\n",
       "      <th>4</th>\n",
       "      <td>5</td>\n",
       "      <td>Professional developer</td>\n",
       "      <td>Yes, I program as a hobby</td>\n",
       "      <td>Switzerland</td>\n",
       "      <td>No</td>\n",
       "      <td>Employed full-time</td>\n",
       "      <td>Master's degree</td>\n",
       "      <td>Computer science or software engineering</td>\n",
       "      <td>Never</td>\n",
       "      <td>10 to 19 employees</td>\n",
       "      <td>...</td>\n",
       "      <td>NaN</td>\n",
       "      <td>NaN</td>\n",
       "      <td>NaN</td>\n",
       "      <td>NaN</td>\n",
       "      <td>NaN</td>\n",
       "      <td>NaN</td>\n",
       "      <td>NaN</td>\n",
       "      <td>NaN</td>\n",
       "      <td>NaN</td>\n",
       "      <td>NaN</td>\n",
       "    </tr>\n",
       "  </tbody>\n",
       "</table>\n",
       "<p>5 rows × 154 columns</p>\n",
       "</div>"
      ],
      "text/plain": [
       "   Respondent                                       Professional  \\\n",
       "0           1                                            Student   \n",
       "1           2                                            Student   \n",
       "2           3                             Professional developer   \n",
       "3           4  Professional non-developer who sometimes write...   \n",
       "4           5                             Professional developer   \n",
       "\n",
       "                ProgramHobby         Country      University  \\\n",
       "0                  Yes, both   United States              No   \n",
       "1                  Yes, both  United Kingdom  Yes, full-time   \n",
       "2                  Yes, both  United Kingdom              No   \n",
       "3                  Yes, both   United States              No   \n",
       "4  Yes, I program as a hobby     Switzerland              No   \n",
       "\n",
       "                         EmploymentStatus  \\\n",
       "0  Not employed, and not looking for work   \n",
       "1                      Employed part-time   \n",
       "2                      Employed full-time   \n",
       "3                      Employed full-time   \n",
       "4                      Employed full-time   \n",
       "\n",
       "                                     FormalEducation  \\\n",
       "0                                   Secondary school   \n",
       "1  Some college/university study without earning ...   \n",
       "2                                  Bachelor's degree   \n",
       "3                                    Doctoral degree   \n",
       "4                                    Master's degree   \n",
       "\n",
       "                                  MajorUndergrad  \\\n",
       "0                                            NaN   \n",
       "1       Computer science or software engineering   \n",
       "2       Computer science or software engineering   \n",
       "3  A non-computer-focused engineering discipline   \n",
       "4       Computer science or software engineering   \n",
       "\n",
       "                                          HomeRemote  \\\n",
       "0                                                NaN   \n",
       "1              More than half, but not all, the time   \n",
       "2  Less than half the time, but at least one day ...   \n",
       "3  Less than half the time, but at least one day ...   \n",
       "4                                              Never   \n",
       "\n",
       "                CompanySize       ...       StackOverflowMakeMoney Gender  \\\n",
       "0                       NaN       ...            Strongly disagree   Male   \n",
       "1        20 to 99 employees       ...            Strongly disagree   Male   \n",
       "2  10,000 or more employees       ...                     Disagree   Male   \n",
       "3  10,000 or more employees       ...                     Disagree   Male   \n",
       "4        10 to 19 employees       ...                          NaN    NaN   \n",
       "\n",
       "  HighestEducationParents                          Race         SurveyLong  \\\n",
       "0             High school  White or of European descent  Strongly disagree   \n",
       "1       A master's degree  White or of European descent     Somewhat agree   \n",
       "2   A professional degree  White or of European descent     Somewhat agree   \n",
       "3       A doctoral degree  White or of European descent              Agree   \n",
       "4                     NaN                           NaN                NaN   \n",
       "\n",
       "  QuestionsInteresting QuestionsConfusing InterestedAnswers    Salary  \\\n",
       "0       Strongly agree           Disagree    Strongly agree       NaN   \n",
       "1       Somewhat agree           Disagree    Strongly agree       NaN   \n",
       "2                Agree           Disagree             Agree  113750.0   \n",
       "3                Agree     Somewhat agree    Strongly agree       NaN   \n",
       "4                  NaN                NaN               NaN       NaN   \n",
       "\n",
       "   ExpectedSalary  \n",
       "0             NaN  \n",
       "1         37500.0  \n",
       "2             NaN  \n",
       "3             NaN  \n",
       "4             NaN  \n",
       "\n",
       "[5 rows x 154 columns]"
      ]
     },
     "execution_count": 2,
     "metadata": {},
     "output_type": "execute_result"
    }
   ],
   "source": [
    "import pandas as pd\n",
    "import numpy as np\n",
    "import JobSatisfaction as t\n",
    "import matplotlib.pyplot as plt\n",
    "%matplotlib inline\n",
    "\n",
    "df = pd.read_csv('./survey_results_public.csv')\n",
    "schema = pd.read_csv('./survey_results_schema.csv')\n",
    "df.head()"
   ]
  },
  {
   "cell_type": "code",
   "execution_count": 3,
   "metadata": {},
   "outputs": [
    {
     "data": {
      "text/plain": [
       "Professional developer                                  13774\n",
       "Student                                                  2821\n",
       "Professional non-developer who sometimes writes code     1782\n",
       "None of these                                             368\n",
       "Used to be a professional developer                       357\n",
       "Name: Professional, dtype: int64"
      ]
     },
     "execution_count": 3,
     "metadata": {},
     "output_type": "execute_result"
    }
   ],
   "source": [
    "#Taking a look at the distribution of the various professions\n",
    "Profession_of_respondents = df.Professional.value_counts()\n",
    "Profession_of_respondents"
   ]
  },
  {
   "cell_type": "code",
   "execution_count": 4,
   "metadata": {},
   "outputs": [
    {
     "name": "stdout",
     "output_type": "stream",
     "text": [
      "Respondent\n",
      "Professional\n",
      "ProgramHobby\n",
      "Country\n",
      "University\n",
      "EmploymentStatus\n",
      "FormalEducation\n",
      "MajorUndergrad\n",
      "HomeRemote\n",
      "CompanySize\n",
      "CompanyType\n",
      "YearsProgram\n",
      "YearsCodedJob\n",
      "YearsCodedJobPast\n",
      "DeveloperType\n",
      "WebDeveloperType\n",
      "MobileDeveloperType\n",
      "NonDeveloperType\n",
      "CareerSatisfaction\n",
      "JobSatisfaction\n",
      "ExCoderReturn\n",
      "ExCoderNotForMe\n",
      "ExCoderBalance\n",
      "ExCoder10Years\n",
      "ExCoderBelonged\n",
      "ExCoderSkills\n",
      "ExCoderWillNotCode\n",
      "ExCoderActive\n",
      "PronounceGIF\n",
      "ProblemSolving\n",
      "BuildingThings\n",
      "LearningNewTech\n",
      "BoringDetails\n",
      "JobSecurity\n",
      "DiversityImportant\n",
      "AnnoyingUI\n",
      "FriendsDevelopers\n",
      "RightWrongWay\n",
      "UnderstandComputers\n",
      "SeriousWork\n",
      "InvestTimeTools\n",
      "WorkPayCare\n",
      "KinshipDevelopers\n",
      "ChallengeMyself\n",
      "CompetePeers\n",
      "ChangeWorld\n",
      "JobSeekingStatus\n",
      "HoursPerWeek\n",
      "LastNewJob\n",
      "AssessJobIndustry\n",
      "AssessJobRole\n",
      "AssessJobExp\n",
      "AssessJobDept\n",
      "AssessJobTech\n",
      "AssessJobProjects\n",
      "AssessJobCompensation\n",
      "AssessJobOffice\n",
      "AssessJobCommute\n",
      "AssessJobRemote\n",
      "AssessJobLeaders\n",
      "AssessJobProfDevel\n",
      "AssessJobDiversity\n",
      "AssessJobProduct\n",
      "AssessJobFinances\n",
      "ImportantBenefits\n",
      "ClickyKeys\n",
      "JobProfile\n",
      "ResumePrompted\n",
      "LearnedHiring\n",
      "ImportantHiringAlgorithms\n",
      "ImportantHiringTechExp\n",
      "ImportantHiringCommunication\n",
      "ImportantHiringOpenSource\n",
      "ImportantHiringPMExp\n",
      "ImportantHiringCompanies\n",
      "ImportantHiringTitles\n",
      "ImportantHiringEducation\n",
      "ImportantHiringRep\n",
      "ImportantHiringGettingThingsDone\n",
      "Currency\n",
      "Overpaid\n",
      "TabsSpaces\n",
      "EducationImportant\n",
      "EducationTypes\n",
      "SelfTaughtTypes\n",
      "TimeAfterBootcamp\n",
      "CousinEducation\n",
      "WorkStart\n",
      "HaveWorkedLanguage\n",
      "WantWorkLanguage\n",
      "HaveWorkedFramework\n",
      "WantWorkFramework\n",
      "HaveWorkedDatabase\n",
      "WantWorkDatabase\n",
      "HaveWorkedPlatform\n",
      "WantWorkPlatform\n",
      "IDE\n",
      "AuditoryEnvironment\n",
      "Methodology\n",
      "VersionControl\n",
      "CheckInCode\n",
      "ShipIt\n",
      "OtherPeoplesCode\n",
      "ProjectManagement\n",
      "EnjoyDebugging\n",
      "InTheZone\n",
      "DifficultCommunication\n",
      "CollaborateRemote\n",
      "MetricAssess\n",
      "EquipmentSatisfiedMonitors\n",
      "EquipmentSatisfiedCPU\n",
      "EquipmentSatisfiedRAM\n",
      "EquipmentSatisfiedStorage\n",
      "EquipmentSatisfiedRW\n",
      "InfluenceInternet\n",
      "InfluenceWorkstation\n",
      "InfluenceHardware\n",
      "InfluenceServers\n",
      "InfluenceTechStack\n",
      "InfluenceDeptTech\n",
      "InfluenceVizTools\n",
      "InfluenceDatabase\n",
      "InfluenceCloud\n",
      "InfluenceConsultants\n",
      "InfluenceRecruitment\n",
      "InfluenceCommunication\n",
      "StackOverflowDescribes\n",
      "StackOverflowSatisfaction\n",
      "StackOverflowDevices\n",
      "StackOverflowFoundAnswer\n",
      "StackOverflowCopiedCode\n",
      "StackOverflowJobListing\n",
      "StackOverflowCompanyPage\n",
      "StackOverflowJobSearch\n",
      "StackOverflowNewQuestion\n",
      "StackOverflowAnswer\n",
      "StackOverflowMetaChat\n",
      "StackOverflowAdsRelevant\n",
      "StackOverflowAdsDistracting\n",
      "StackOverflowModeration\n",
      "StackOverflowCommunity\n",
      "StackOverflowHelpful\n",
      "StackOverflowBetter\n",
      "StackOverflowWhatDo\n",
      "StackOverflowMakeMoney\n",
      "Gender\n",
      "HighestEducationParents\n",
      "Race\n",
      "SurveyLong\n",
      "QuestionsInteresting\n",
      "QuestionsConfusing\n",
      "InterestedAnswers\n",
      "Salary\n",
      "ExpectedSalary\n"
     ]
    }
   ],
   "source": [
    "#Checking the all the column titles\n",
    "for i in df.columns:\n",
    "    print (i)"
   ]
  },
  {
   "cell_type": "code",
   "execution_count": 14,
   "metadata": {},
   "outputs": [
    {
     "data": {
      "text/plain": [
       "3849"
      ]
     },
     "execution_count": 14,
     "metadata": {},
     "output_type": "execute_result"
    }
   ],
   "source": [
    "#Number of missing values in the JobSatisfaction column\n",
    "missing_job_satisfaction= df[\"JobSatisfaction\"].isnull().sum()\n",
    "missing_job_satisfaction"
   ]
  },
  {
   "cell_type": "code",
   "execution_count": 7,
   "metadata": {},
   "outputs": [
    {
     "data": {
      "text/plain": [
       "0.20149722542142184"
      ]
     },
     "execution_count": 7,
     "metadata": {},
     "output_type": "execute_result"
    }
   ],
   "source": [
    "#Proportion of rows with missing values in relation to the entire dataset\n",
    "Proportion_missing_job_satisfaction = missing_job_satisfaction/df.shape[0]\n",
    "Proportion_missing_job_satisfaction"
   ]
  },
  {
   "cell_type": "code",
   "execution_count": 30,
   "metadata": {},
   "outputs": [
    {
     "data": {
      "text/plain": [
       "Text(0.5,1,'How satisfied are you with your job')"
      ]
     },
     "execution_count": 30,
     "metadata": {},
     "output_type": "execute_result"
    },
    {
     "data": {
      "image/png": "[encoded data removed]",
      "text/plain": [
       "<matplotlib.figure.Figure at 0x7fdc44c55f60>"
      ]
     },
     "metadata": {
      "needs_background": "light"
     },
     "output_type": "display_data"
    }
   ],
   "source": [
    "#Group with highest Job satisfaction\n",
    "proportion_j_s = df[\"JobSatisfaction\"].value_counts()\n",
    "(proportion_j_s/df.shape[0]).plot(kind = \"bar\")\n",
    "plt.title(\"How satisfied are you with your job\")"
   ]
  },
  {
   "cell_type": "code",
   "execution_count": 11,
   "metadata": {},
   "outputs": [
    {
     "name": "stdout",
     "output_type": "stream",
     "text": [
      "Employed full-time                                      13655\n",
      "Independent contractor, freelancer, or self-employed     1866\n",
      "Employed part-time                                       1168\n",
      "Not employed, and not looking for work                   1066\n",
      "Not employed, but looking for work                        906\n",
      "I prefer not to say                                       381\n",
      "Retired                                                    60\n",
      "Name: EmploymentStatus, dtype: int64\n"
     ]
    },
    {
     "data": {
      "text/plain": [
       "Text(0.5,1,'What kind of employment do you have?')"
      ]
     },
     "execution_count": 11,
     "metadata": {},
     "output_type": "execute_result"
    },
    {
     "data": {
      "image/png": "[encoded data removed]",
      "text/plain": [
       "<matplotlib.figure.Figure at 0x7f05b852b7b8>"
      ]
     },
     "metadata": {
      "needs_background": "light"
     },
     "output_type": "display_data"
    }
   ],
   "source": [
    "Employment_status_chart = df.EmploymentStatus.value_counts()\n",
    "print(Employment_status_chart)\n",
    "(Employment_status_chart/df.shape[0]).plot(kind = \"bar\")\n",
    "plt.title(\"What kind of employment do you have?\")"
   ]
  },
  {
   "cell_type": "code",
   "execution_count": 40,
   "metadata": {},
   "outputs": [
    {
     "data": {
      "text/plain": [
       "Text(0.5,1,'How satisfied are you with your job')"
      ]
     },
     "execution_count": 40,
     "metadata": {},
     "output_type": "execute_result"
    },
    {
     "data": {
      "image/png": "[encoded data removed]",
      "text/plain": [
       "<matplotlib.figure.Figure at 0x7f05b81e16d8>"
      ]
     },
     "metadata": {
      "needs_background": "light"
     },
     "output_type": "display_data"
    }
   ],
   "source": [
    "chart= df.groupby(['EmploymentStatus']).sum()['JobSatisfaction'].dropna()\n",
    "(chart/df.shape[0]).plot(kind = \"bar\")\n",
    "plt.title(\"How satisfied are you with your job\")"
   ]
  },
  {
   "cell_type": "code",
   "execution_count": 36,
   "metadata": {},
   "outputs": [
    {
     "data": {
      "text/plain": [
       "Text(0.5,1,'How satisfied are employees based on company size')"
      ]
     },
     "execution_count": 36,
     "metadata": {},
     "output_type": "execute_result"
    },
    {
     "data": {
      "image/png": "[encoded data removed]",
      "text/plain": [
       "<matplotlib.figure.Figure at 0x7f05b8221390>"
      ]
     },
     "metadata": {
      "needs_background": "light"
     },
     "output_type": "display_data"
    }
   ],
   "source": [
    "chart1= df.groupby(['CompanySize']).sum()['JobSatisfaction'].dropna()\n",
    "(chart1/df.shape[0]).plot(kind = \"bar\")\n",
    "plt.title(\"How satisfied are employees based on company size\")"
   ]
  },
  {
   "cell_type": "markdown",
   "metadata": {},
   "source": [
    "#### Question 1\n",
    "\n",
    "**1.** Use the space above to assist in matching each variable (a, b, c, d, e, f, g, or h) as the appropriate key that describes the value in the **job_sol_1** dictionary."
   ]
  },
  {
   "cell_type": "code",
   "execution_count": 35,
   "metadata": {},
   "outputs": [
    {
     "name": "stdout",
     "output_type": "stream",
     "text": [
      "Oops! Though it wasn't what I was expecting either, the job category with the highest job satisfaction was not fulltime nor retired individuals!\n"
     ]
    }
   ],
   "source": [
    "a = 0.734\n",
    "b = 0.2014\n",
    "c = 'full-time'\n",
    "d = 'contractors'\n",
    "e = 'retired'\n",
    "f = 'yes'\n",
    "g = 'no'\n",
    "h = 'hard to tell'\n",
    "\n",
    "job_sol_1 = {'The proportion of missing values in the Job Satisfaction column': b,\n",
    "             'According to EmploymentStatus, which group has the highest average job satisfaction?':c, \n",
    "             'In general, do smaller companies appear to have employees with higher job satisfaction?': f}\n",
    "             \n",
    "t.jobsat_check1(job_sol_1)"
   ]
  },
  {
   "cell_type": "markdown",
   "metadata": {},
   "source": [
    "#### Question 2\n",
    "\n",
    "**2.** Use the space above to assist in matching each variable (a, b, c) as the appropriate key that describes the value in the **job_sol_2** dictionary. Notice you can have the same letter appear more than once."
   ]
  },
  {
   "cell_type": "code",
   "execution_count": 47,
   "metadata": {},
   "outputs": [
    {
     "name": "stdout",
     "output_type": "stream",
     "text": [
      "ProgramHobby\n",
      "No                                           22185.0\n",
      "Yes, I contribute to open source projects     6994.0\n",
      "Yes, I program as a hobby                    48400.0\n",
      "Yes, both                                    29203.0\n",
      "Name: JobSatisfaction, dtype: float64\n"
     ]
    },
    {
     "data": {
      "text/plain": [
       "Text(0.5,1,'How satisfied are you with your work when you program outside')"
      ]
     },
     "execution_count": 47,
     "metadata": {},
     "output_type": "execute_result"
    },
    {
     "data": {
      "image/png": "[encoded data removed]",
      "text/plain": [
       "<matplotlib.figure.Figure at 0x7f05b7fa6cc0>"
      ]
     },
     "metadata": {
      "needs_background": "light"
     },
     "output_type": "display_data"
    }
   ],
   "source": [
    "chart2 = df.groupby(['ProgramHobby']).sum()['JobSatisfaction']\n",
    "print(chart2)\n",
    "(chart2/df.shape[0]).plot(kind = \"bar\")\n",
    "plt.title(\"How satisfied are you with your work when you program outside\")"
   ]
  },
  {
   "cell_type": "code",
   "execution_count": 46,
   "metadata": {},
   "outputs": [
    {
     "name": "stdout",
     "output_type": "stream",
     "text": [
      "HomeRemote\n",
      "A few days each month                                      39926.0\n",
      "About half the time                                         3627.0\n",
      "All or almost all the time (I'm full-time remote)          12841.0\n",
      "It's complicated                                            4193.0\n",
      "Less than half the time, but at least one day each week     9887.0\n",
      "More than half, but not all, the time                       3975.0\n",
      "Never                                                      32173.0\n",
      "Name: JobSatisfaction, dtype: float64\n"
     ]
    },
    {
     "data": {
      "text/plain": [
       "Text(0.5,1,'Does flexibility have influence on your satisfaction')"
      ]
     },
     "execution_count": 46,
     "metadata": {},
     "output_type": "execute_result"
    },
    {
     "data": {
      "image/png": "[encoded data removed]",
      "text/plain": [
       "<matplotlib.figure.Figure at 0x7f05b7efa780>"
      ]
     },
     "metadata": {
      "needs_background": "light"
     },
     "output_type": "display_data"
    }
   ],
   "source": [
    "chart3= df.groupby(['HomeRemote']).sum()['JobSatisfaction']\n",
    "print(chart3)\n",
    "(chart3/df.shape[0]).plot(kind = \"bar\")\n",
    "plt.title(\"Does flexibility have influence on your satisfaction\")"
   ]
  },
  {
   "cell_type": "code",
   "execution_count": 52,
   "metadata": {},
   "outputs": [
    {
     "name": "stdout",
     "output_type": "stream",
     "text": [
      "FormalEducation\n",
      "Bachelor's degree                                                    49413.0\n",
      "Doctoral degree                                                       3749.0\n",
      "I never completed any formal education                                 700.0\n",
      "I prefer not to answer                                                 988.0\n",
      "Master's degree                                                      26807.0\n",
      "Primary/elementary school                                              646.0\n",
      "Professional degree                                                   1585.0\n",
      "Secondary school                                                      7104.0\n",
      "Some college/university study without earning a bachelor's degree    15790.0\n",
      "Name: JobSatisfaction, dtype: float64\n"
     ]
    }
   ],
   "source": [
    "chart4 = df.groupby(['FormalEducation']).sum()['JobSatisfaction'].dropna()\n",
    "print(chart4)"
   ]
  },
  {
   "cell_type": "code",
   "execution_count": 51,
   "metadata": {},
   "outputs": [
    {
     "name": "stdout",
     "output_type": "stream",
     "text": [
      "Are you sure at least one more of these wasn't true?  I thought a quick look suggested evidence for all, but maybe you found some evidence suggesting otherwise.  I did not do anymore than quick descriptive statistics to view the results. Certainly there could be confounding factors, and there is no evidence of statistically significant differences based on my solutions.\n"
     ]
    }
   ],
   "source": [
    "a = 'yes'\n",
    "b = 'no'\n",
    "c = 'hard to tell'\n",
    "\n",
    "job_sol_2 = {'Do individuals who program outside of work appear to have higher JobSatisfaction?':a,\n",
    "             'Does flexibility to work outside of the office appear to have an influence on JobSatisfaction?': a, \n",
    "             'A friend says a Doctoral degree increases the chance of having job you like, does this seem true?': b}\n",
    "             \n",
    "t.jobsat_check2(job_sol_2)"
   ]
  },
  {
   "cell_type": "code",
   "execution_count": null,
   "metadata": {},
   "outputs": [],
   "source": []
  }
 ],
 "metadata": {
  "kernelspec": {
   "display_name": "Python 3",
   "language": "python",
   "name": "python3"
  },
  "language_info": {
   "codemirror_mode": {
    "name": "ipython",
    "version": 3
   },
   "file_extension": ".py",
   "mimetype": "text/x-python",
   "name": "python",
   "nbconvert_exporter": "python",
   "pygments_lexer": "ipython3",
   "version": "3.6.3"
  }
 },
 "nbformat": 4,
 "nbformat_minor": 2
}
